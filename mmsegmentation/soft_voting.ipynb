{
 "cells": [
  {
   "cell_type": "code",
   "execution_count": 33,
   "metadata": {},
   "outputs": [],
   "source": [
    "import torch\n",
    "import glob\n",
    "import os\n",
    "import pandas as pd\n",
    "from tqdm import tqdm"
   ]
  },
  {
   "cell_type": "code",
   "execution_count": 34,
   "metadata": {},
   "outputs": [
    {
     "data": {
      "text/plain": [
       "True"
      ]
     },
     "execution_count": 34,
     "metadata": {},
     "output_type": "execute_result"
    }
   ],
   "source": [
    "a = torch.zeros((1,11,512,512))\n",
    "b = torch.zeros((1,8,512,512))\n",
    "\n",
    "ab = torch.cat([a,b],dim=1)\n",
    "ab.size() == torch.Size([1,19,512,512])"
   ]
  },
  {
   "cell_type": "code",
   "execution_count": 35,
   "metadata": {},
   "outputs": [
    {
     "name": "stderr",
     "output_type": "stream",
     "text": [
      "100%|██████████| 624/624 [01:29<00:00,  6.99it/s]\n"
     ]
    }
   ],
   "source": [
    "data_root = 'out'\n",
    "path_list = ['psa_80k','hr48','ocr_net','swin']\n",
    "w_list = [\n",
    "    [0.244,0.249,0.179,0.193,0.279,0.299,0.430,0.336,0.230,0.479,0.109],\n",
    "\t[0.000,0.000,0.000,0.000,0.000,0.000,0.000,0.000,0.000,0.000,0.240],\n",
    "\t[0.345,0.383,0.356,0.292,0.243,0.347,0.188,0.310,0.395,0.056,0.000],\n",
    "\t[0.411,0.368,0.464,0.516,0.477,0.353,0.383,0.354,0.375,0.465,0.651],\n",
    "]\n",
    "\n",
    "# w_list = [[1 for _ in range(11)] for _ in range(len(path_list))] # if don't want to use weight\n",
    "\n",
    "device = torch.device('cuda:0' if torch.cuda.is_available() else 'cpu')\n",
    "pt_lists = []\n",
    "for p in path_list:\n",
    "    pt_list = sorted(glob.glob(f'{data_root}/{p}/*.pt'))\n",
    "    pt_lists.append(pt_list)\n",
    "\n",
    "os.makedirs(f'{data_root}/essamble', exist_ok=True)\n",
    "\n",
    "b = torch.zeros((1,8,512,512)).to(device)\n",
    "\n",
    "for p in tqdm(zip(*pt_lists),total=len(pt_list)):\n",
    "    logits = list(map(lambda x: torch.load(x),p))\n",
    "    for l,w in zip(logits,w_list):\n",
    "        for l_,w_ in zip(l[0],w):\n",
    "            l_.data *= torch.tensor(w_).to(device)\n",
    "        if not l.size() == torch.Size([1,19,512,512]):\n",
    "            l.data = torch.cat([l.data,b],dim=1)\n",
    "\n",
    "    logit_sum = sum(logits)\n",
    "    result = torch.argmax(logit_sum,dim=1)\n",
    "    file_name = p[0].split('/')[-1].replace('.pt','.txt')\n",
    "    with open(f'{data_root}/essamble/{file_name}', 'w') as f:\n",
    "        for r in result[0]:\n",
    "            r_list = r.tolist()\n",
    "            f.write(' '.join(map(str,r_list)) + '\\n')"
   ]
  },
  {
   "cell_type": "code",
   "execution_count": 36,
   "metadata": {},
   "outputs": [
    {
     "name": "stderr",
     "output_type": "stream",
     "text": [
      "  2%|▏         | 14/624 [00:00<00:04, 138.66it/s]"
     ]
    },
    {
     "name": "stdout",
     "output_type": "stream",
     "text": [
      "\n",
      "making submission ...\n"
     ]
    },
    {
     "name": "stderr",
     "output_type": "stream",
     "text": [
      "100%|██████████| 624/624 [00:05<00:00, 123.76it/s]\n"
     ]
    }
   ],
   "source": [
    "print('\\nmaking submission ...')\n",
    "dic = {\"image_id\":[],\"PredictionString\":[]}\n",
    "for path in tqdm(sorted(glob.glob(f'{data_root}/essamble/*.txt'))):\n",
    "    image_id = path.replace(f'{data_root}/essamble/','').replace('_03_','_03/').replace('vt_','vt/').replace('.txt','.jpg')\n",
    "    with open(path, 'r') as f:\n",
    "        value_list = f.readlines()\n",
    "        new_value_list = []\n",
    "        for i in range(0,len(value_list),2):\n",
    "            value = value_list[i].split(' ')\n",
    "            value = ' '.join(value[0::2])\n",
    "            new_value_list.append(value)\n",
    "\n",
    "    dic[\"image_id\"].append(image_id)\n",
    "    dic[\"PredictionString\"].append(' '.join(new_value_list))\n",
    "\n",
    "df = pd.DataFrame(dic)\n",
    "df.to_csv(f'{data_root}/essamble/_submission.csv',index=False)"
   ]
  }
 ],
 "metadata": {
  "interpreter": {
   "hash": "d4d1e4263499bec80672ea0156c357c1ee493ec2b1c70f0acce89fc37c4a6abe"
  },
  "kernelspec": {
   "display_name": "Python 3.8.5 ('base')",
   "language": "python",
   "name": "python3"
  },
  "language_info": {
   "codemirror_mode": {
    "name": "ipython",
    "version": 3
   },
   "file_extension": ".py",
   "mimetype": "text/x-python",
   "name": "python",
   "nbconvert_exporter": "python",
   "pygments_lexer": "ipython3",
   "version": "3.8.5"
  },
  "orig_nbformat": 4
 },
 "nbformat": 4,
 "nbformat_minor": 2
}
